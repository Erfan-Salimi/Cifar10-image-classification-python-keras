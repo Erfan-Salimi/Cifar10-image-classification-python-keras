{
  "cells": [
    {
      "cell_type": "code",
      "execution_count": 1,
      "metadata": {
        "colab": {
          "base_uri": "https://localhost:8080/"
        },
        "id": "3wx4sWnpXM0l",
        "outputId": "a90e8057-a003-4ead-958e-a931c6a7dd82"
      },
      "outputs": [],
      "source": [
        "# load data\n",
        "from keras.datasets import cifar10\n",
        "\n",
        "(train_x, train_y), (test_x, test_y) = cifar10.load_data()"
      ]
    },
    {
      "cell_type": "code",
      "execution_count": 2,
      "metadata": {
        "colab": {
          "base_uri": "https://localhost:8080/",
          "height": 301
        },
        "id": "ElEvdsP7XQS1",
        "outputId": "82d95d35-a226-4f17-de59-6aaacd578bbf"
      },
      "outputs": [
        {
          "name": "stdout",
          "output_type": "stream",
          "text": [
            "images size:  (32, 32, 3)\n",
            "frog\n"
          ]
        },
        {
          "data": {
            "image/png": "[encoded data removed]",
            "text/plain": [
              "<Figure size 432x288 with 1 Axes>"
            ]
          },
          "metadata": {
            "needs_background": "light"
          },
          "output_type": "display_data"
        }
      ],
      "source": [
        "import matplotlib.pyplot as plt\n",
        "\n",
        "class_names = ['airplane', 'automobile', 'bird', 'cat', 'deer', 'dog', 'frog', 'horse', 'ship', 'truck']\n",
        "\n",
        "print('images size: ', train_x[0].shape)\n",
        "plt.imshow(train_x[0])\n",
        "print(class_names[train_y[0][0]])"
      ]
    },
    {
      "cell_type": "code",
      "execution_count": 3,
      "metadata": {
        "colab": {
          "base_uri": "https://localhost:8080/"
        },
        "id": "0yoSiUFsXVxU",
        "outputId": "5941c182-30c9-426a-8e3a-2a215436526f"
      },
      "outputs": [
        {
          "name": "stdout",
          "output_type": "stream",
          "text": [
            "(50000, 32, 32, 3) (50000, 10)\n"
          ]
        }
      ],
      "source": [
        "from keras.utils import np_utils\n",
        "\n",
        "# Converting to float type\n",
        "train_x = train_x.astype('float32')\n",
        "test_x = test_x.astype('float32')\n",
        "\n",
        "# Standardizing\n",
        "train_x /= 255\n",
        "test_x /=  255 \n",
        "\n",
        "# one hot\n",
        "train_y = np_utils.to_categorical(train_y, 10)\n",
        "test_y = np_utils.to_categorical(test_y, 10)\n",
        "\n",
        "print(train_x.shape, train_y.shape)"
      ]
    },
    {
      "cell_type": "code",
      "execution_count": 4,
      "metadata": {
        "id": "ukVCi7O8XXSM"
      },
      "outputs": [],
      "source": [
        "from keras import Sequential, layers\n",
        "\n",
        "# Create sequential model\n",
        "model = Sequential()\n",
        "\n",
        "# Add layers\n",
        "model.add(layers.Conv2D(32, (3,3), padding='same', activation='relu', input_shape=(32,32,3)))\n",
        "model.add(layers.Conv2D(32, (3,3), padding='same', activation='relu'))\n",
        "model.add(layers.MaxPooling2D(pool_size=(2,2)))\n",
        "model.add(layers.BatchNormalization())\n",
        "model.add(layers.Dropout(0.3))\n",
        "\n",
        "# Add layers\n",
        "model.add(layers.Conv2D(64, (3,3), padding='same', activation='relu'))\n",
        "model.add(layers.Conv2D(64, (3,3), padding='same', activation='relu'))\n",
        "model.add(layers.BatchNormalization())\n",
        "model.add(layers.MaxPooling2D(pool_size=(2,2)))\n",
        "model.add(layers.Dropout(0.5))\n",
        "\n",
        "# Add layers\n",
        "model.add(layers.Flatten())\n",
        "model.add(layers.Dense(128, activation='relu'))\n",
        "model.add(layers.BatchNormalization())\n",
        "model.add(layers.Dropout(0.5))\n",
        "model.add(layers.Dense(10, activation='softmax'))  "
      ]
    },
    {
      "cell_type": "code",
      "execution_count": 5,
      "metadata": {
        "colab": {
          "base_uri": "https://localhost:8080/"
        },
        "id": "6TeHSlw0XY5U",
        "outputId": "d8e92355-b8a9-4dff-9bb5-d46bc63816b6"
      },
      "outputs": [
        {
          "name": "stdout",
          "output_type": "stream",
          "text": [
            "Model: \"sequential\"\n",
            "_________________________________________________________________\n",
            " Layer (type)                Output Shape              Param #   \n",
            "=================================================================\n",
            " conv2d (Conv2D)             (None, 32, 32, 32)        896       \n",
            "                                                                 \n",
            " conv2d_1 (Conv2D)           (None, 32, 32, 32)        9248      \n",
            "                                                                 \n",
            " max_pooling2d (MaxPooling2D  (None, 16, 16, 32)       0         \n",
            " )                                                               \n",
            "                                                                 \n",
            " batch_normalization (BatchN  (None, 16, 16, 32)       128       \n",
            " ormalization)                                                   \n",
            "                                                                 \n",
            " dropout (Dropout)           (None, 16, 16, 32)        0         \n",
            "                                                                 \n",
            " conv2d_2 (Conv2D)           (None, 16, 16, 64)        18496     \n",
            "                                                                 \n",
            " conv2d_3 (Conv2D)           (None, 16, 16, 64)        36928     \n",
            "                                                                 \n",
            " batch_normalization_1 (Batc  (None, 16, 16, 64)       256       \n",
            " hNormalization)                                                 \n",
            "                                                                 \n",
            " max_pooling2d_1 (MaxPooling  (None, 8, 8, 64)         0         \n",
            " 2D)                                                             \n",
            "                                                                 \n",
            " dropout_1 (Dropout)         (None, 8, 8, 64)          0         \n",
            "                                                                 \n",
            " flatten (Flatten)           (None, 4096)              0         \n",
            "                                                                 \n",
            " dense (Dense)               (None, 128)               524416    \n",
            "                                                                 \n",
            " batch_normalization_2 (Batc  (None, 128)              512       \n",
            " hNormalization)                                                 \n",
            "                                                                 \n",
            " dropout_2 (Dropout)         (None, 128)               0         \n",
            "                                                                 \n",
            " dense_1 (Dense)             (None, 10)                1290      \n",
            "                                                                 \n",
            "=================================================================\n",
            "Total params: 592,170\n",
            "Trainable params: 591,722\n",
            "Non-trainable params: 448\n",
            "_________________________________________________________________\n"
          ]
        }
      ],
      "source": [
        "model.summary()"
      ]
    },
    {
      "cell_type": "code",
      "execution_count": 6,
      "metadata": {
        "id": "8j20SSz7XbGk"
      },
      "outputs": [],
      "source": [
        "from keras.losses import categorical_crossentropy\n",
        "\n",
        "# compile model\n",
        "model.compile(optimizer='adam', loss=categorical_crossentropy, metrics=['accuracy'])"
      ]
    },
    {
      "cell_type": "code",
      "execution_count": 7,
      "metadata": {
        "colab": {
          "base_uri": "https://localhost:8080/"
        },
        "id": "2ZO1ko8jXc_j",
        "outputId": "9ae1c361-a901-42b5-9562-195d8a7b019f"
      },
      "outputs": [
        {
          "name": "stdout",
          "output_type": "stream",
          "text": [
            "Epoch 1/20\n",
            "704/704 [==============================] - 99s 139ms/step - loss: 1.7425 - accuracy: 0.4091 - val_loss: 1.2922 - val_accuracy: 0.5402\n",
            "Epoch 2/20\n",
            "704/704 [==============================] - 103s 146ms/step - loss: 1.2193 - accuracy: 0.5649 - val_loss: 1.0789 - val_accuracy: 0.6136\n",
            "Epoch 3/20\n",
            "704/704 [==============================] - 103s 147ms/step - loss: 1.0605 - accuracy: 0.6243 - val_loss: 0.9287 - val_accuracy: 0.6714\n",
            "Epoch 4/20\n",
            "704/704 [==============================] - 103s 147ms/step - loss: 0.9656 - accuracy: 0.6628 - val_loss: 0.9482 - val_accuracy: 0.6530\n",
            "Epoch 5/20\n",
            "704/704 [==============================] - 104s 148ms/step - loss: 0.8970 - accuracy: 0.6846 - val_loss: 0.9228 - val_accuracy: 0.6696\n",
            "Epoch 6/20\n",
            "704/704 [==============================] - 102s 145ms/step - loss: 0.8471 - accuracy: 0.7035 - val_loss: 0.7769 - val_accuracy: 0.7266\n",
            "Epoch 7/20\n",
            "704/704 [==============================] - 105s 149ms/step - loss: 0.8038 - accuracy: 0.7193 - val_loss: 0.7558 - val_accuracy: 0.7412\n",
            "Epoch 8/20\n",
            "704/704 [==============================] - 103s 146ms/step - loss: 0.7690 - accuracy: 0.7305 - val_loss: 0.7157 - val_accuracy: 0.7530\n",
            "Epoch 9/20\n",
            "704/704 [==============================] - 102s 145ms/step - loss: 0.7420 - accuracy: 0.7398 - val_loss: 0.7814 - val_accuracy: 0.7270\n",
            "Epoch 10/20\n",
            "704/704 [==============================] - 103s 146ms/step - loss: 0.7151 - accuracy: 0.7482 - val_loss: 0.7458 - val_accuracy: 0.7408\n",
            "Epoch 11/20\n",
            "704/704 [==============================] - 103s 147ms/step - loss: 0.6962 - accuracy: 0.7556 - val_loss: 0.6367 - val_accuracy: 0.7812\n",
            "Epoch 12/20\n",
            "704/704 [==============================] - 103s 146ms/step - loss: 0.6788 - accuracy: 0.7625 - val_loss: 0.6663 - val_accuracy: 0.7732\n",
            "Epoch 13/20\n",
            "704/704 [==============================] - 103s 146ms/step - loss: 0.6560 - accuracy: 0.7701 - val_loss: 0.6041 - val_accuracy: 0.7884\n",
            "Epoch 14/20\n",
            "704/704 [==============================] - 105s 149ms/step - loss: 0.6523 - accuracy: 0.7723 - val_loss: 0.5631 - val_accuracy: 0.8022\n",
            "Epoch 15/20\n",
            "704/704 [==============================] - 103s 146ms/step - loss: 0.6268 - accuracy: 0.7798 - val_loss: 0.6297 - val_accuracy: 0.7850\n",
            "Epoch 16/20\n",
            "704/704 [==============================] - 103s 146ms/step - loss: 0.6212 - accuracy: 0.7816 - val_loss: 0.5737 - val_accuracy: 0.8040\n",
            "Epoch 17/20\n",
            "704/704 [==============================] - 103s 146ms/step - loss: 0.6018 - accuracy: 0.7898 - val_loss: 0.5594 - val_accuracy: 0.8122\n",
            "Epoch 18/20\n",
            "704/704 [==============================] - 103s 146ms/step - loss: 0.5850 - accuracy: 0.7946 - val_loss: 0.6554 - val_accuracy: 0.7804\n",
            "Epoch 19/20\n",
            "704/704 [==============================] - 103s 146ms/step - loss: 0.5823 - accuracy: 0.7955 - val_loss: 0.5827 - val_accuracy: 0.7980\n",
            "Epoch 20/20\n",
            "704/704 [==============================] - 103s 146ms/step - loss: 0.5696 - accuracy: 0.7995 - val_loss: 0.5450 - val_accuracy: 0.8130\n"
          ]
        }
      ],
      "source": [
        "# fit model\n",
        "from keras.callbacks import ModelCheckpoint\n",
        "\n",
        "\n",
        "checkpoint_filepath = './model/checkpoint'\n",
        "model_checkpoint_callback = ModelCheckpoint(\n",
        "    filepath=checkpoint_filepath,\n",
        "    save_weights_only=True,\n",
        "    monitor='val_accuracy',\n",
        "    mode='max',\n",
        "    save_best_only=True)\n",
        "\n",
        "history = model.fit(train_x, train_y, batch_size=64, epochs=20, validation_split=0.1, callbacks=[model_checkpoint_callback])"
      ]
    },
    {
      "cell_type": "code",
      "execution_count": 8,
      "metadata": {
        "colab": {
          "base_uri": "https://localhost:8080/",
          "height": 296
        },
        "id": "-Tt0qK-PXeyc",
        "outputId": "a201cbc8-6b33-487d-d47d-86bdf4c8d6c4"
      },
      "outputs": [
        {
          "data": {
            "text/plain": [
              "<matplotlib.legend.Legend at 0x1e3bc493400>"
            ]
          },
          "execution_count": 8,
          "metadata": {},
          "output_type": "execute_result"
        },
        {
          "data": {
            "image/png": "[encoded data removed]",
            "text/plain": [
              "<Figure size 432x288 with 1 Axes>"
            ]
          },
          "metadata": {
            "needs_background": "light"
          },
          "output_type": "display_data"
        }
      ],
      "source": [
        "import matplotlib.pyplot as plt\n",
        "\n",
        "losses = history.history['loss']\n",
        "val_losses = history.history['val_loss']\n",
        "\n",
        "plt.plot(losses)\n",
        "plt.plot(val_losses)\n",
        "plt.xlabel('Epochs')\n",
        "plt.ylabel('Loss')\n",
        "plt.legend(['loss', 'val_loss'])"
      ]
    },
    {
      "cell_type": "code",
      "execution_count": 9,
      "metadata": {
        "colab": {
          "base_uri": "https://localhost:8080/"
        },
        "id": "Fmg2DLqVXhTs",
        "outputId": "2f770dec-f9b6-4e88-83fe-7e6d743287d3"
      },
      "outputs": [
        {
          "name": "stdout",
          "output_type": "stream",
          "text": [
            "313/313 [==============================] - 5s 16ms/step - loss: 0.5857 - accuracy: 0.8002\n",
            "test loss:  [0.5856876373291016, 0.8001999855041504]\n"
          ]
        }
      ],
      "source": [
        "from numpy import argmax\n",
        "\n",
        "test_loss = model.evaluate(test_x, test_y)\n",
        "print(\"test loss: \", test_loss)\n",
        "\n",
        "test_labels_p = model.predict(test_x)\n",
        "test_labels_p = argmax(test_labels_p, axis=1)"
      ]
    },
    {
      "cell_type": "code",
      "execution_count": 10,
      "metadata": {
        "colab": {
          "base_uri": "https://localhost:8080/",
          "height": 868
        },
        "id": "QB8F58uSXkGz",
        "outputId": "d194cf26-bf9f-4449-e3bd-b5ee8caa6cd0"
      },
      "outputs": [
        {
          "data": {
            "image/png": "[encoded data removed]",
            "text/plain": [
              "<Figure size 432x288 with 1 Axes>"
            ]
          },
          "metadata": {
            "needs_background": "light"
          },
          "output_type": "display_data"
        },
        {
          "name": "stdout",
          "output_type": "stream",
          "text": [
            "True labels:  cat\n",
            "Pred labels:  cat\n"
          ]
        },
        {
          "data": {
            "image/png": "[encoded data removed]",
            "text/plain": [
              "<Figure size 432x288 with 1 Axes>"
            ]
          },
          "metadata": {
            "needs_background": "light"
          },
          "output_type": "display_data"
        },
        {
          "name": "stdout",
          "output_type": "stream",
          "text": [
            "True labels:  ship\n",
            "Pred labels:  ship\n"
          ]
        },
        {
          "data": {
            "image/png": "[encoded data removed]",
            "text/plain": [
              "<Figure size 432x288 with 1 Axes>"
            ]
          },
          "metadata": {
            "needs_background": "light"
          },
          "output_type": "display_data"
        },
        {
          "name": "stdout",
          "output_type": "stream",
          "text": [
            "True labels:  ship\n",
            "Pred labels:  ship\n"
          ]
        }
      ],
      "source": [
        "import matplotlib.pyplot as plt\n",
        "from numpy import argmax\n",
        "\n",
        "class_names = ['airplane', 'automobile', 'bird', 'cat', 'deer', 'dog', 'frog', 'horse', 'ship', 'truck']\n",
        "\n",
        "for i in range(3):\n",
        "  plt.imshow(test_x[i], cmap='gray')\n",
        "  plt.show()\n",
        "  print(\"True labels: \", class_names[argmax(test_y[i])])\n",
        "  print(\"Pred labels: \", class_names[test_labels_p[i]])"
      ]
    },
    {
      "cell_type": "code",
      "execution_count": 11,
      "metadata": {
        "id": "EdYY_oofXmlz"
      },
      "outputs": [],
      "source": [
        "model.save('model.h5')"
      ]
    },
    {
      "cell_type": "code",
      "execution_count": 20,
      "metadata": {
        "colab": {
          "base_uri": "https://localhost:8080/",
          "height": 236
        },
        "id": "4F3w3rYRXoyj",
        "outputId": "e2849f7c-37a1-425f-b5b2-781c4f3d1de9"
      },
      "outputs": [
        {
          "data": {
            "image/png": "[encoded data removed]",
            "text/plain": [
              "<Figure size 432x288 with 1 Axes>"
            ]
          },
          "metadata": {
            "needs_background": "light"
          },
          "output_type": "display_data"
        },
        {
          "name": "stdout",
          "output_type": "stream",
          "text": [
            "Horse\n"
          ]
        }
      ],
      "source": [
        "from keras.models import load_model\n",
        "from keras.preprocessing import image\n",
        "import matplotlib.pyplot as plt\n",
        "from numpy import expand_dims\n",
        "\n",
        "\n",
        "model = load_model('model.h5')\n",
        "\n",
        "test_image1 = image.load_img('horse.jpg', target_size=(32, 32))\n",
        "\n",
        "plt.imshow(test_image1)\n",
        "plt.show()\n",
        "\n",
        "test_image = image.img_to_array(test_image1) \n",
        "test_image = expand_dims(test_image, axis=0) \n",
        "\n",
        "result = model.predict(test_image) \n",
        "\n",
        "if result[0][0] == 1: \n",
        "    print(\"Airplane\") \n",
        "elif result[0][1] == 1: \n",
        "    print('Automobile') \n",
        "elif result[0][2] == 1: \n",
        "    print('Bird') \n",
        "elif result[0][3] == 1: \n",
        "    print('Cat') \n",
        "elif result[0][4] == 1: \n",
        "    print('Deer') \n",
        "elif result[0][5] == 1: \n",
        "    print('Dog') \n",
        "elif result[0][6] == 1: \n",
        "    print('Frog') \n",
        "elif result[0][7] == 1: \n",
        "    print('Horse') \n",
        "elif result[0][8] == 1: \n",
        "    print('Ship') \n",
        "elif result[0][9] == 1: \n",
        "    print('Truck') "
      ]
    },
    {
      "cell_type": "code",
      "execution_count": null,
      "metadata": {},
      "outputs": [],
      "source": []
    }
  ],
  "metadata": {
    "accelerator": "GPU",
    "colab": {
      "name": "Welcome to Colaboratory",
      "provenance": []
    },
    "gpuClass": "standard",
    "kernelspec": {
      "display_name": "Python 3.10.2 64-bit",
      "language": "python",
      "name": "python3"
    },
    "language_info": {
      "codemirror_mode": {
        "name": "ipython",
        "version": 3
      },
      "file_extension": ".py",
      "mimetype": "text/x-python",
      "name": "python",
      "nbconvert_exporter": "python",
      "pygments_lexer": "ipython3",
      "version": "3.10.2"
    },
    "vscode": {
      "interpreter": {
        "hash": "025d7b1fe4fb5bc263b75f44cd7336ec37dcef430a25e15c6a21216eeb52cedc"
      }
    }
  },
  "nbformat": 4,
  "nbformat_minor": 0
}
